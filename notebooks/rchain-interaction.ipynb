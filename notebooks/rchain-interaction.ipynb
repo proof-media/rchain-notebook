{
 "cells": [
  {
   "cell_type": "markdown",
   "metadata": {},
   "source": [
    "# Interaction with RChain network via Python/Notebooks"
   ]
  },
  {
   "cell_type": "markdown",
   "metadata": {},
   "source": [
    "## 1. setup"
   ]
  },
  {
   "cell_type": "markdown",
   "metadata": {},
   "source": [
    "In current docker compose configuration we have the node name in the environments"
   ]
  },
  {
   "cell_type": "code",
   "execution_count": 1,
   "metadata": {},
   "outputs": [],
   "source": [
    "RNODE_HOST = %env NODE_NAME"
   ]
  },
  {
   "cell_type": "markdown",
   "metadata": {},
   "source": [
    "Open a channel with `grpc` using our Python library."
   ]
  },
  {
   "cell_type": "code",
   "execution_count": 2,
   "metadata": {},
   "outputs": [
    {
     "data": {
      "text/plain": [
       "<rchain_grpc.utils.Connection at 0x7fc11c0f2780>"
      ]
     },
     "execution_count": 2,
     "metadata": {},
     "output_type": "execute_result"
    }
   ],
   "source": [
    "from rchain_grpc import casper\n",
    "\n",
    "connection = casper.create_connection(host=RNODE_HOST)\n",
    "connection"
   ]
  },
  {
   "cell_type": "markdown",
   "metadata": {},
   "source": [
    "## 2. simple deploy"
   ]
  },
  {
   "cell_type": "markdown",
   "metadata": {},
   "source": [
    "Write code in RhoLang"
   ]
  },
  {
   "cell_type": "code",
   "execution_count": 3,
   "metadata": {},
   "outputs": [],
   "source": [
    "rholang_code = \"\"\"\n",
    "new print(`rho:io:stdout`) in {\n",
    "    print!(\"Hello World!\")\n",
    "}\n",
    "\"\"\""
   ]
  },
  {
   "cell_type": "markdown",
   "metadata": {},
   "source": [
    "You can deploy/propose to the node you're connected with the string containing Rholang code"
   ]
  },
  {
   "cell_type": "code",
   "execution_count": 4,
   "metadata": {},
   "outputs": [
    {
     "data": {
      "text/plain": [
       "{'success': True, 'message': 'Success!'}"
      ]
     },
     "execution_count": 4,
     "metadata": {},
     "output_type": "execute_result"
    }
   ],
   "source": [
    "casper.deploy(connection, rholang_code)"
   ]
  },
  {
   "cell_type": "code",
   "execution_count": 5,
   "metadata": {},
   "outputs": [
    {
     "data": {
      "text/plain": [
       "{'success': True, 'message': 'Success! Block a0317bec23... created and added.'}"
      ]
     },
     "execution_count": 5,
     "metadata": {},
     "output_type": "execute_result"
    }
   ],
   "source": [
    "casper.propose(connection)"
   ]
  },
  {
   "cell_type": "markdown",
   "metadata": {},
   "source": [
    "## 3. advanced deploy"
   ]
  },
  {
   "cell_type": "markdown",
   "metadata": {},
   "source": [
    "A more interesting example is to run a contract and listen to the node for an answer on the deployed block.\n",
    "\n",
    "To make this trick we define a placeholder name that will be used in the final deployed contract to listen and show the content of block we propose."
   ]
  },
  {
   "cell_type": "code",
   "execution_count": 6,
   "metadata": {},
   "outputs": [],
   "source": [
    "output_placeholder = \"your_output_placeholder\"\n",
    "\n",
    "rholang_code = \"\"\"\n",
    "%s!(\"bar\")\n",
    "\"\"\" % output_placeholder"
   ]
  },
  {
   "cell_type": "code",
   "execution_count": 7,
   "metadata": {},
   "outputs": [],
   "source": [
    "output = casper.run_and_get_value_from(\n",
    "    connection=connection,\n",
    "    term=rholang_code, \n",
    "    output_placeholder=output_placeholder\n",
    ")"
   ]
  },
  {
   "cell_type": "code",
   "execution_count": 8,
   "metadata": {},
   "outputs": [
    {
     "name": "stdout",
     "output_type": "stream",
     "text": [
      "Results:\n",
      "[{'block': {'blockHash': '102525680dac7b71c42c8fe7ebbf4aa7e247df6515dd294699490ef689e04258',\n",
      "            'blockNumber': 2,\n",
      "            'blockSize': '1144',\n",
      "            'deployCount': 1,\n",
      "            'faultTolerance': -1.0,\n",
      "            'mainParentHash': 'a0317bec23a50598e08ee31153ef686fddec9761a07d480a8f83f5e42e26e40d',\n",
      "            'parentsHashList': ['a0317bec23a50598e08ee31153ef686fddec9761a07d480a8f83f5e42e26e40d'],\n",
      "            'sender': 'eabe5a1a0750d2a8745709bb0bdb24f63c6a8ac3a887b9bed40b34b0598ddf08',\n",
      "            'timestamp': 1540025659499,\n",
      "            'tupleSpaceHash': '1f77579c6b9214199596ecb79facfe2b8a7eb4dc674cc4b694dc47238023751b'},\n",
      "  'postBlockData': [['bar']]}]\n"
     ]
    }
   ],
   "source": [
    "# verify the status\n",
    "if output.get('status').lower() == 'success':\n",
    "    # all is good, pretty print results\n",
    "    print(\"Results:\")\n",
    "    from pprint import pprint\n",
    "    pprint(output.get('blockResults'))\n",
    "else:\n",
    "    # uh-oh something went wrong\n",
    "    print(\"Failed!\")"
   ]
  }
 ],
 "metadata": {
  "kernelspec": {
   "display_name": "Python 3",
   "language": "python",
   "name": "python3"
  },
  "language_info": {
   "codemirror_mode": {
    "name": "ipython",
    "version": 3
   },
   "file_extension": ".py",
   "mimetype": "text/x-python",
   "name": "python",
   "nbconvert_exporter": "python",
   "pygments_lexer": "ipython3",
   "version": "3.7.0"
  },
  "toc": {
   "base_numbering": 1,
   "nav_menu": {},
   "number_sections": false,
   "sideBar": true,
   "skip_h1_title": true,
   "title_cell": "Table of Contents",
   "title_sidebar": "Contents",
   "toc_cell": false,
   "toc_position": {},
   "toc_section_display": true,
   "toc_window_display": true
  }
 },
 "nbformat": 4,
 "nbformat_minor": 2
}
