{
 "cells": [
  {
   "cell_type": "markdown",
   "metadata": {
    "slideshow": {
     "slide_type": "slide"
    }
   },
   "source": [
    "# RChain Python gRPC client "
   ]
  },
  {
   "cell_type": "markdown",
   "metadata": {},
   "source": [
    "Available at http://j.mp/rchain-py-grpc-walk-through"
   ]
  },
  {
   "cell_type": "markdown",
   "metadata": {
    "slideshow": {
     "slide_type": "slide"
    }
   },
   "source": [
    "## Introduction"
   ]
  },
  {
   "cell_type": "markdown",
   "metadata": {
    "slideshow": {
     "slide_type": "subslide"
    }
   },
   "source": [
    "### How to reproduce this demo\n",
    "\n",
    "- Interactive locally\n",
    "- Read-only mode on the web"
   ]
  },
  {
   "cell_type": "markdown",
   "metadata": {
    "slideshow": {
     "slide_type": "subslide"
    }
   },
   "source": [
    "#### Locally on your workstation \n",
    "with Docker containers"
   ]
  },
  {
   "cell_type": "markdown",
   "metadata": {},
   "source": [
    "```bash\n",
    "git clone https://github.com/proof-media/rchain-notebook.git demo\n",
    "cd demo\n",
    "docker-compose up\n",
    "```"
   ]
  },
  {
   "cell_type": "markdown",
   "metadata": {
    "slideshow": {
     "slide_type": "fragment"
    }
   },
   "source": [
    "Then open http://localhost:8888"
   ]
  },
  {
   "cell_type": "code",
   "execution_count": 3,
   "metadata": {
    "slideshow": {
     "slide_type": "fragment"
    }
   },
   "outputs": [
    {
     "data": {
      "text/plain": [
       "'prooflikesrchainalot'"
      ]
     },
     "execution_count": 3,
     "metadata": {},
     "output_type": "execute_result"
    }
   ],
   "source": [
    "# password is set in the `.env` file\n",
    "# and shared to notebook container\n",
    "%env NOTEBOOK_PASSWORD"
   ]
  },
  {
   "cell_type": "markdown",
   "metadata": {
    "slideshow": {
     "slide_type": "subslide"
    }
   },
   "source": [
    "#### Read only mode"
   ]
  },
  {
   "cell_type": "markdown",
   "metadata": {},
   "source": [
    "Through https://nbviewer.jupyter.org/\n",
    "\n",
    "- [link to notebook](https://github.com/proof-media/rchain-notebook/blob/testing/name-registry/notebooks/walk-through.ipynb)\n",
    "- [link to slides](https://nbviewer.jupyter.org/format/slides/github/proof-media/rchain-notebook/blob/testing%2Fname-registry/notebooks/walk-through.ipynb#/)"
   ]
  },
  {
   "cell_type": "markdown",
   "metadata": {
    "slideshow": {
     "slide_type": "subslide"
    }
   },
   "source": [
    "### Proof platform\n",
    "\n",
    "![proof image](https://i0.wp.com/proofmedia.io/wp-content/uploads/2018/06/Default-Logo-copyxhdpi.png?resize=246%2C159&ssl=1)"
   ]
  },
  {
   "cell_type": "markdown",
   "metadata": {
    "slideshow": {
     "slide_type": "subslide"
    }
   },
   "source": [
    "**Because Truth Matters**\n",
    "\n",
    "https://proofmedia.io/"
   ]
  },
  {
   "cell_type": "markdown",
   "metadata": {
    "slideshow": {
     "slide_type": "fragment"
    }
   },
   "source": [
    "> We are building a platform which leverages the wisdom of the crowds to establish truth."
   ]
  },
  {
   "cell_type": "markdown",
   "metadata": {
    "slideshow": {
     "slide_type": "subslide"
    }
   },
   "source": [
    "Our backend is based on `Python 3.7+` and `Django framework`"
   ]
  },
  {
   "cell_type": "markdown",
   "metadata": {
    "slideshow": {
     "slide_type": "subslide"
    }
   },
   "source": [
    "### Credits"
   ]
  },
  {
   "cell_type": "markdown",
   "metadata": {
    "slideshow": {
     "slide_type": "fragment"
    }
   },
   "source": [
    "- inspired by the official rchain/python snippet \n",
    "\n",
    "https://github.com/rchain/rchain/tree/dev/node-client\n"
   ]
  },
  {
   "cell_type": "markdown",
   "metadata": {
    "slideshow": {
     "slide_type": "fragment"
    }
   },
   "source": [
    "- developed mainly by beetleman\n",
    "\n",
    "https://github.com/proof-media/rchain-grpc/graphs/contributors"
   ]
  },
  {
   "cell_type": "markdown",
   "metadata": {
    "slideshow": {
     "slide_type": "subslide"
    }
   },
   "source": [
    "- I'm Paolo - CTO @Proof\n",
    "- Pythonista \n",
    "- Python teacher using Jupyter Notebooks"
   ]
  },
  {
   "cell_type": "markdown",
   "metadata": {
    "slideshow": {
     "slide_type": "subslide"
    }
   },
   "source": [
    "### Roadmap and status"
   ]
  },
  {
   "cell_type": "markdown",
   "metadata": {
    "slideshow": {
     "slide_type": "subslide"
    }
   },
   "source": [
    "* Up to `0.0.10` -> code developed tested with `RNode 0.6.x`\n",
    "* Upcoming `0.0.11` release will be compatible with `RNode 0.7.x`"
   ]
  },
  {
   "cell_type": "markdown",
   "metadata": {
    "slideshow": {
     "slide_type": "subslide"
    }
   },
   "source": [
    "- Current [update PR](https://github.com/proof-media/rchain-grpc/pull/10) blocked by [protobuf issue](https://github.com/protocolbuffers/protobuf/issues/5272)"
   ]
  },
  {
   "cell_type": "markdown",
   "metadata": {
    "slideshow": {
     "slide_type": "fragment"
    }
   },
   "source": [
    "- Eval/Repl [not working](https://github.com/proof-media/rchain-grpc/issues/12) for gRPC missing definition\n"
   ]
  },
  {
   "cell_type": "markdown",
   "metadata": {
    "slideshow": {
     "slide_type": "subslide"
    }
   },
   "source": [
    "- Short-term goal\n",
    "\n",
    "move the repo into `rchain` GitHub space, see [issue](https://github.com/proof-media/rchain-grpc/issues/8)\n",
    "\n",
    "(after those previous problems are solved)"
   ]
  },
  {
   "cell_type": "markdown",
   "metadata": {
    "slideshow": {
     "slide_type": "slide"
    }
   },
   "source": [
    "## Using the code"
   ]
  },
  {
   "cell_type": "markdown",
   "metadata": {
    "slideshow": {
     "slide_type": "slide"
    }
   },
   "source": [
    "### Connecting"
   ]
  },
  {
   "cell_type": "markdown",
   "metadata": {
    "slideshow": {
     "slide_type": "subslide"
    }
   },
   "source": [
    "With docker-compose you are running an RNode standalone instance"
   ]
  },
  {
   "cell_type": "code",
   "execution_count": 4,
   "metadata": {
    "slideshow": {
     "slide_type": "subslide"
    }
   },
   "outputs": [],
   "source": [
    "RNODE_HOST = %env NODE_NAME"
   ]
  },
  {
   "cell_type": "code",
   "execution_count": 5,
   "metadata": {
    "slideshow": {
     "slide_type": "fragment"
    }
   },
   "outputs": [
    {
     "name": "stdout",
     "output_type": "stream",
     "text": [
      "fetch http://dl-cdn.alpinelinux.org/alpine/v3.8/main/x86_64/APKINDEX.tar.gz\n",
      "fetch http://dl-cdn.alpinelinux.org/alpine/v3.8/community/x86_64/APKINDEX.tar.gz\n",
      "(1/1) Installing curl (7.61.1-r0)\n",
      "\u001b7  0%                                                                           \u001b8\u001b[0K\u001b7100% ██████████████████████████████████████████████████████████████████████████\u001b8\u001b[0KExecuting busybox-1.28.4-r1.trigger\n",
      "OK: 36 MiB in 48 packages\n"
     ]
    }
   ],
   "source": [
    "! apk add curl"
   ]
  },
  {
   "cell_type": "code",
   "execution_count": 6,
   "metadata": {
    "slideshow": {
     "slide_type": "fragment"
    }
   },
   "outputs": [
    {
     "name": "stdout",
     "output_type": "stream",
     "text": [
      "RChain Node 0.7.1 (e747f905e7b8b92b8fde1686507cce3faf252b16)"
     ]
    }
   ],
   "source": [
    "! curl $RNODE_HOST:40403/version"
   ]
  },
  {
   "cell_type": "markdown",
   "metadata": {
    "slideshow": {
     "slide_type": "subslide"
    }
   },
   "source": [
    "Now we can open a channel through `gRPC` against an RChain node using the Python library."
   ]
  },
  {
   "cell_type": "markdown",
   "metadata": {
    "slideshow": {
     "slide_type": "fragment"
    }
   },
   "source": [
    "NOTE: in this notebook docker image the package is already installed,\n",
    "\n",
    "while normally you would do:\n",
    "```bash\n",
    "pip install rchain-grpc\n",
    "```"
   ]
  },
  {
   "cell_type": "code",
   "execution_count": 56,
   "metadata": {
    "slideshow": {
     "slide_type": "subslide"
    }
   },
   "outputs": [
    {
     "data": {
      "text/plain": [
       "<rchain_grpc.utils.Connection at 0x7fce33fb8c50>"
      ]
     },
     "execution_count": 56,
     "metadata": {},
     "output_type": "execute_result"
    }
   ],
   "source": [
    "from rchain_grpc import casper\n",
    "\n",
    "connection = casper.create_connection(host=RNODE_HOST)\n",
    "connection"
   ]
  },
  {
   "cell_type": "markdown",
   "metadata": {
    "slideshow": {
     "slide_type": "slide"
    }
   },
   "source": [
    "### Write Rholang code"
   ]
  },
  {
   "cell_type": "markdown",
   "metadata": {
    "slideshow": {
     "slide_type": "subslide"
    }
   },
   "source": [
    "In a notebook you can write a file like this"
   ]
  },
  {
   "cell_type": "code",
   "execution_count": 57,
   "metadata": {
    "slideshow": {
     "slide_type": "fragment"
    }
   },
   "outputs": [
    {
     "name": "stdout",
     "output_type": "stream",
     "text": [
      "Overwriting hello_world.rho\n"
     ]
    }
   ],
   "source": [
    "%%file hello_world.rho\n",
    "\n",
    "new print(`rho:io:stdout`) in {\n",
    "    print!(\"Hello World!\")\n",
    "}\n"
   ]
  },
  {
   "cell_type": "markdown",
   "metadata": {
    "slideshow": {
     "slide_type": "subslide"
    }
   },
   "source": [
    "Then edit it inside the notebook server,\n",
    "e.g. <a href=\"http://localhost:8888/edit/hello_world.rho\" target=\"_blank\">link to file</a>"
   ]
  },
  {
   "cell_type": "code",
   "execution_count": 58,
   "metadata": {
    "slideshow": {
     "slide_type": "subslide"
    }
   },
   "outputs": [],
   "source": [
    "# read the file to pass the code\n",
    "with open('hello_world.rho') as fh:\n",
    "    rholang_code = fh.read()"
   ]
  },
  {
   "cell_type": "code",
   "execution_count": 59,
   "metadata": {
    "slideshow": {
     "slide_type": "subslide"
    }
   },
   "outputs": [],
   "source": [
    "# alternative: write directly the code with triple quoted strings\n",
    "rholang_code = \"\"\"\n",
    "new print(`rho:io:stdout`) in {\n",
    "    print!(\"Hello World!\")\n",
    "}\n",
    "\"\"\""
   ]
  },
  {
   "cell_type": "code",
   "execution_count": 60,
   "metadata": {
    "slideshow": {
     "slide_type": "fragment"
    }
   },
   "outputs": [
    {
     "data": {
      "text/plain": [
       "'\\nnew print(`rho:io:stdout`) in {\\n    print!(\"Hello World!\")\\n}\\n'"
      ]
     },
     "execution_count": 60,
     "metadata": {},
     "output_type": "execute_result"
    }
   ],
   "source": [
    "rholang_code"
   ]
  },
  {
   "cell_type": "markdown",
   "metadata": {
    "slideshow": {
     "slide_type": "slide"
    }
   },
   "source": [
    "### Deploy and propose"
   ]
  },
  {
   "cell_type": "code",
   "execution_count": 61,
   "metadata": {
    "slideshow": {
     "slide_type": "subslide"
    }
   },
   "outputs": [
    {
     "data": {
      "text/plain": [
       "{'success': True, 'message': 'Success!'}"
      ]
     },
     "execution_count": 61,
     "metadata": {},
     "output_type": "execute_result"
    }
   ],
   "source": [
    "casper.deploy(connection, rholang_code)"
   ]
  },
  {
   "cell_type": "code",
   "execution_count": 62,
   "metadata": {
    "slideshow": {
     "slide_type": "-"
    }
   },
   "outputs": [
    {
     "data": {
      "text/plain": [
       "{'success': True, 'message': 'Success! Block 72d9ae5670... created and added.'}"
      ]
     },
     "execution_count": 62,
     "metadata": {},
     "output_type": "execute_result"
    }
   ],
   "source": [
    "casper.propose(connection)"
   ]
  },
  {
   "cell_type": "markdown",
   "metadata": {
    "slideshow": {
     "slide_type": "subslide"
    }
   },
   "source": [
    "Now check logs of the rnode to see if we have `Hello World!` string"
   ]
  },
  {
   "cell_type": "markdown",
   "metadata": {
    "slideshow": {
     "slide_type": "slide"
    }
   },
   "source": [
    "### Play with blocks"
   ]
  },
  {
   "cell_type": "code",
   "execution_count": 40,
   "metadata": {
    "slideshow": {
     "slide_type": "subslide"
    }
   },
   "outputs": [
    {
     "data": {
      "text/plain": [
       "[{'blockHash': 'f1d38c82b433c2d2754f43e06768ae414c37a1190dca9732620f8b2869dbb53a',\n",
       "  'blockSize': '1340',\n",
       "  'blockNumber': 3,\n",
       "  'deployCount': 1,\n",
       "  'tupleSpaceHash': '95f88e33b7f5aa2d9407a4e7a7e927273ab217d841d242fa2535e30f2ae018ad',\n",
       "  'timestamp': 1540201268251,\n",
       "  'faultTolerance': -1.0,\n",
       "  'mainParentHash': 'e2d91d598ed94df73c5085425d7ba53fcedd0db47c71c4a5ac8d252455a18c47',\n",
       "  'parentsHashList': ['e2d91d598ed94df73c5085425d7ba53fcedd0db47c71c4a5ac8d252455a18c47'],\n",
       "  'sender': 'eabe5a1a0750d2a8745709bb0bdb24f63c6a8ac3a887b9bed40b34b0598ddf08'}]"
      ]
     },
     "execution_count": 40,
     "metadata": {},
     "output_type": "execute_result"
    }
   ],
   "source": [
    "output = casper.get_blocks(connection, depth=1)\n",
    "# NOTE: protobuf outputs are always converted into Python dictionaries by our library\n",
    "output"
   ]
  },
  {
   "cell_type": "code",
   "execution_count": 41,
   "metadata": {
    "slideshow": {
     "slide_type": "fragment"
    }
   },
   "outputs": [
    {
     "data": {
      "text/plain": [
       "'f1d38c82b433c2d2754f43e06768ae414c37a1190dca9732620f8b2869dbb53a'"
      ]
     },
     "execution_count": 41,
     "metadata": {},
     "output_type": "execute_result"
    }
   ],
   "source": [
    "block_hash = output.pop().get('blockHash')\n",
    "block_hash"
   ]
  },
  {
   "cell_type": "code",
   "execution_count": 42,
   "metadata": {
    "slideshow": {
     "slide_type": "subslide"
    }
   },
   "outputs": [
    {
     "data": {
      "text/plain": [
       "{'blockHash': 'f1d38c82b433c2d2754f43e06768ae414c37a1190dca9732620f8b2869dbb53a',\n",
       " 'blockSize': '1340',\n",
       " 'blockNumber': 3,\n",
       " 'deployCount': 1,\n",
       " 'tupleSpaceHash': '95f88e33b7f5aa2d9407a4e7a7e927273ab217d841d242fa2535e30f2ae018ad',\n",
       " 'tupleSpaceDump': '@{Unforgeable(0x25408b316e2455a9d52da2bcd923ee3e0524b34776d387bdf347320a54f2bf6f)}!({5122eac8a5c99b7da8f6d40d5f3269c6844dabde0418749ece2aeedc64c27703 : (288, \"secp256k1Verify\", Nil, 1), 5a3fff1ed432237e779fc6aa20d7549d043cc0dd92180ebee0346229598870f8 : (228, \"secp256k1Verify\", Nil, 2), d6b0c603a51fbcd56db1606a0591310876f93bdbf2309c7bdbc277a080368990 : (188, \"secp256k1Verify\", Nil, 4), a3158195b3ca6dfb88b8f0cb0788b01f25ea11421104df071bd043ca27f2def4 : (202, \"secp256k1Verify\", Nil, 3), e84b0ca96139b9c5e1a58b55e9d84682318a2030eaf24923204a1473ed659b34 : (224, \"secp256k1Verify\", Nil, 5), eabe5a1a0750d2a8745709bb0bdb24f63c6a8ac3a887b9bed40b34b0598ddf08 : (92, \"secp256k1Verify\", Nil, 6)}) |\\n@{Unforgeable(0xa4fd447dedfc960485983ee817632cf36d79f45fd1796019edfb4a84a81d1697)}!({}) |\\n@{\"proofOfStake\"}!(Unforgeable(0xecd2e56d9e265a6cd90c7f7db9c174f426a29e6c2eee985862039ed3baa405ee)) |\\n@{Unforgeable(0x6b9fea10fcb68e9fb3b5e7d28043d18f37b63d376149f24cfe52c03342b6f251)}!(1222) |\\n@{Unforgeable(0x9ff0f9541aca2420eae8043874b6f4eafbe5e0747b9805056908e59ff04c9abb)}!!(1) |\\nfor( @{x0} <= @{\"MakeMint\"} ) {\\n  new x1, x2, x3 in {\\n    @{x0}!(x1) |\\n    for( @{x4}, @{x5} <= @{(x1, \"makePurse\")} ) {\\n      new x6 in {\\n        @{(\"MakeMint\", \"int2NN\")}!(x4, x6) |\\n        for( @{x7} <- @{x6} ) {\\n          @{x2}!(x7, x5)\\n        }\\n      }\\n    } |\\n    for( @{x4}, @{x5} <= @{x2} ) {\\n      new x6 in {\\n        @{x5}!(x6) |\\n        for( @{x7}, @{x8}, @{x9} <= @{(x6, \"deposit\")} ) {\\n          new x10 in {\\n            @{(x8, x3)}!(x7, x10) |\\n            for( @{x11} <- @{x10} ) {\\n              match x11 {\\n                true => @{(x4, \"add\")}!(x7, x9) ;\\n                false => @{x9}!(false)\\n              }\\n            }\\n          }\\n        } |\\n        for( @{x7} <= @{(x6, \"getBalance\")} ) {\\n          @{(x4, \"value\")}!(x7)\\n        } |\\n        for( @{x7}, @{x8} <= @{(x6, \"split\")} ) {\\n          new x9, x10 in {\\n            @{(x6, \"sprout\")}!(x9) |\\n            for( @{x11} <- @{x9} ) {\\n              @{(x11, \"deposit\")}!(x7, x6, x10) |\\n              for( @{x12} <- @{x10} ) {\\n                match x12 {\\n                  true => @{x8}!([x11]) ;\\n                  false => @{x8}!([])\\n                }\\n              }\\n            }\\n          }\\n        } |\\n        for( @{x7} <= @{(x6, \"sprout\")} ) {\\n          @{(x1, \"makePurse\")}!(0, x7)\\n        } |\\n        for( @{x7}, @{x8} <= @{(x6, x3)} ) {\\n          @{(x4, \"sub\")}!(x7, x8)\\n        }\\n      }\\n    }\\n  }\\n} |\\nfor( @{x0}, @{x1} <= @{(Unforgeable(0xecd2e56d9e265a6cd90c7f7db9c174f426a29e6c2eee985862039ed3baa405ee), \"isBonded\")} ) {\\n  for( @{x2} <- @{Unforgeable(0x25408b316e2455a9d52da2bcd923ee3e0524b34776d387bdf347320a54f2bf6f)} ) {\\n    @{x1}!((x2).contains(x0)) |\\n    @{Unforgeable(0x25408b316e2455a9d52da2bcd923ee3e0524b34776d387bdf347320a54f2bf6f)}!(x2)\\n  }\\n} |\\nfor( @{x0}, @{x1} <= @{(Unforgeable(0xf0f0a2dd83356d30a1ff0b3fdbaf1427674b3cf65b607246739d9f1299a0cd88), \"split\")} ) {\\n  new x2, x3 in {\\n    @{(Unforgeable(0xf0f0a2dd83356d30a1ff0b3fdbaf1427674b3cf65b607246739d9f1299a0cd88), \"sprout\")}!(x2) |\\n    for( @{x4} <- @{x2} ) {\\n      @{(x4, \"deposit\")}!(x0, Unforgeable(0xf0f0a2dd83356d30a1ff0b3fdbaf1427674b3cf65b607246739d9f1299a0cd88), x3) |\\n      for( @{x5} <- @{x3} ) {\\n        match x5 {\\n          true => @{x1}!([x4]) ;\\n          false => @{x1}!([])\\n        }\\n      }\\n    }\\n  }\\n} |\\nfor( @{x0}, @{x1}, @{x2}, @{x3} <= @{\"BasicWallet\"} ) {\\n  new x4 in {\\n    for( @{x5} <- @{x4} ) {\\n      match x5 {\\n        [] => @{x3}!([]) ;\\n        [x6] => new x7, x8, x9 in {\\n          @{x9}!(-1) |\\n          @{x3}!([x7]) |\\n          for( @{x10}, @{x11}, @{x12} <= @{(x7, \"deposit\")} ) {\\n            @{(x0, \"deposit\")}!(x10, x11, x12)\\n          } |\\n          for( @{x10} <= @{(x7, \"getBalance\")} ) {\\n            @{(x0, \"getBalance\")}!(x10)\\n          } |\\n          for( @{x10} <= @{(x7, \"getNonce\")} ) {\\n            for( @{x11} <- @{x9} ) {\\n              @{x10}!(x11) |\\n              @{x9}!(x11)\\n            }\\n          } |\\n          for( @{x10}, @{x11}, @{x12}, @{x13}, @{x14} <= @{(x7, \"transfer\")} ) {\\n            new x15 in {\\n              @{x8}!(x11, x10, x13, x12, x15) |\\n              for( @{x16} <- @{x15} ) {\\n                match x16 {\\n                  true => new x17 in {\\n                    @{(x0, \"split\")}!(x10, x17) |\\n                    for( @{x18} <- @{x17} ) {\\n                      match x18 {\\n                        [] => @{x14}!(\"Overdraft\") ;\\n                        [x19] => @{x14}!(\"Success\") |\\n                        @{x13}!(x19)\\n                      }\\n                    }\\n                  } ;\\n                  false => @{x14}!(\"Invalid signature or nonce\")\\n                }\\n              }\\n            }\\n          } |\\n          for( @{x10}, @{x11}, @{x12}, @{x13}, @{x14} <= @{x8} ) {\\n            for( @{x15} <- @{x9} ) {\\n              match (x10 == (x15 + 1)) {\\n                true => new x16, x17 in {\\n                  @{\"blake2b256Hash\"}!(([x10, x11, x12]).toByteArray(), x17) |\\n                  for( @{x18} <- @{x17} ) {\\n                    @{x6}!(x18, (x13).hexToBytes(), (x2).hexToBytes(), x16) |\\n                    for( @{x19} <- @{x16} ) {\\n                      match x19 {\\n                        true => @{x14}!(true) |\\n                        @{x9}!(x10) ;\\n                        false => @{x14}!(false) |\\n                        @{x9}!(x15)\\n                      }\\n                    }\\n                  }\\n                } ;\\n                false => @{x14}!(false) |\\n                @{x9}!(x15)\\n              }\\n            }\\n          }\\n        }\\n      }\\n    } |\\n    match x1 {\\n      \"ed25519\" => @{x4}!([\"ed25519Verify\"]) ;\\n      \"secp256k1\" => @{x4}!([\"secp256k1Verify\"]) ;\\n      _ => @{x4}!([])\\n    }\\n  }\\n} |\\nfor( @{x0}, @{x1} <= @{(Unforgeable(0xf0f0a2dd83356d30a1ff0b3fdbaf1427674b3cf65b607246739d9f1299a0cd88), Unforgeable(0x997e30ea2a02f2e2dcc1da6150d9765a27971d771b35ebf2040750d0ec63c31c))} ) {\\n  @{(Unforgeable(0x5c27ed0300df4e93e036e3045c894aef8b0e7de54f453b3c4598d1cf3986bac2), \"sub\")}!(x0, x1)\\n} |\\nfor( @{x0}, @{x1} <= @{Unforgeable(0x1559b5dd34d2b8ed4702e15c754b1cd22dc15141441b6ebbfbe1c215477ee210)} ) {\\n  new x2 in {\\n    @{x1}!(x2) |\\n    for( @{x3}, @{x4}, @{x5} <= @{(x2, \"deposit\")} ) {\\n      new x6 in {\\n        @{(x4, Unforgeable(0x997e30ea2a02f2e2dcc1da6150d9765a27971d771b35ebf2040750d0ec63c31c))}!(x3, x6) |\\n        for( @{x7} <- @{x6} ) {\\n          match x7 {\\n            true => @{(x0, \"add\")}!(x3, x5) ;\\n            false => @{x5}!(false)\\n          }\\n        }\\n      }\\n    } |\\n    for( @{x3} <= @{(x2, \"getBalance\")} ) {\\n      @{(x0, \"value\")}!(x3)\\n    } |\\n    for( @{x3}, @{x4} <= @{(x2, \"split\")} ) {\\n      new x5, x6 in {\\n        @{(x2, \"sprout\")}!(x5) |\\n        for( @{x7} <- @{x5} ) {\\n          @{(x7, \"deposit\")}!(x3, x2, x6) |\\n          for( @{x8} <- @{x6} ) {\\n            match x8 {\\n              true => @{x4}!([x7]) ;\\n              false => @{x4}!([])\\n            }\\n          }\\n        }\\n      }\\n    } |\\n    for( @{x3} <= @{(x2, \"sprout\")} ) {\\n      @{(Unforgeable(0x683eaf52d2b3d017da586a54f6e19091b0303c90da8cadd6a4debed984c77f83), \"makePurse\")}!(0, x3)\\n    } |\\n    for( @{x3}, @{x4} <= @{(x2, Unforgeable(0x997e30ea2a02f2e2dcc1da6150d9765a27971d771b35ebf2040750d0ec63c31c))} ) {\\n      @{(x0, \"sub\")}!(x3, x4)\\n    }\\n  }\\n} |\\nfor( @{x0}, @{x1} <= @{\"blake2b256Hash\"} ) {\\n  Nil\\n} |\\nfor( @{x0} <= @{Unforgeable(0x00)} ) {\\n  Nil\\n} |\\nfor( @{x0}, @{x1} <= @{(Unforgeable(0xecd2e56d9e265a6cd90c7f7db9c174f426a29e6c2eee985862039ed3baa405ee), \"validateBondingRate\")} ) {\\n  @{x1}!((\"Right\", x0))\\n} |\\nfor( @{x0}, @{x1} <= @{(Unforgeable(0xecd2e56d9e265a6cd90c7f7db9c174f426a29e6c2eee985862039ed3baa405ee), \"validateBondAmount\")} ) {\\n  new x2 in {\\n    @{(x0, \"getBalance\")}!(x2) |\\n    for( @{x3} <- @{x2} ; @{x4} <- @{Unforgeable(0x9ff0f9541aca2420eae8043874b6f4eafbe5e0747b9805056908e59ff04c9abb)} ) {\\n      match ((x3 - x4) < 1) {\\n        true => @{x1}!((\"Left\", \"Bond less than minimum!\")) ;\\n        false => match ((x3 - x4) > 9223372036854775807) {\\n          true => @{x1}!((\"Left\", \"Bond greater than maximum!\")) ;\\n          false => @{x1}!((\"Right\", x0))\\n        }\\n      }\\n    }\\n  }\\n} |\\nfor( @{x0}, @{x1}, @{x2} <= @{(\"ListOps\", \"parMap\")} ) {\\n  new x3, x4, x5 in {\\n    @{(\"ListOps\", \"map\")}!(x0, x4, x3) |\\n    for( @{x6} <- @{x3} ) {\\n      @{(\"ListOps\", \"map\")}!(x6, x5, x2)\\n    } |\\n    for( @{x6}, @{x7} <= @{x5} ) {\\n      for( @{x8} <- @{x6} ) {\\n        @{x7}!(x8)\\n      }\\n    } |\\n    for( @{x6}, @{x7} <= @{x4} ) {\\n      new x8 in {\\n        @{x7}!(x8) |\\n        @{x1}!(x6, x8)\\n      }\\n    }\\n  }\\n} |\\nfor( @{x0}, @{x1} <= @{\"BasicWalletFaucet\"} ) {\\n  new x2 in {\\n    @{x1}!(x2) |\\n    for( @{x3}, @{x4}, @{x5}, @{x6} <= @{x2} ) {\\n      new x7 in {\\n        @{(x0, \"makePurse\")}!(x3, x7) |\\n        for( @{x8} <- @{x7} ) {\\n          @{\"BasicWallet\"}!(x8, x4, x5, x6)\\n        }\\n      }\\n    }\\n  }\\n} |\\nfor( @{x0} <= @{(Unforgeable(0x5c27ed0300df4e93e036e3045c894aef8b0e7de54f453b3c4598d1cf3986bac2), \"value\")} ) {\\n  for( @{x1} <- @{Unforgeable(0x6b9fea10fcb68e9fb3b5e7d28043d18f37b63d376149f24cfe52c03342b6f251)} ) {\\n    @{x0}!(x1) |\\n    @{Unforgeable(0x6b9fea10fcb68e9fb3b5e7d28043d18f37b63d376149f24cfe52c03342b6f251)}!(x1)\\n  }\\n} |\\nfor( @{x0}, @{x1}, @{x2} <= @{Unforgeable(0x3ddd216fe056e93aad1e250c3d24a21fb24bc58476ef130c8ca102cd57280bca)} ) {\\n  new x3, x4, x5, x6, x7, x8 in {\\n    @{(\"ListOps\", \"range\")}!(1, (x0 + 1), x3) |\\n    for( @{x9} <- @{x3} ) {\\n      @{(\"ListOps\", \"map\")}!(x9, x4, x5) |\\n      for( @{x10} <- @{x5} ) {\\n        @{(\"ListOps\", \"fold\")}!(x10, 0, x6, x8) |\\n        for( @{x11} <- @{x8} ) {\\n          @{x2}!(([(((x10).nth(0) + x1) - x11)] ++ (x10).slice(1,x0)))\\n        }\\n      }\\n    } |\\n    for( @{x9}, @{x10}, @{x11} <= @{x6} ) {\\n      @{x11}!((x9 + x10))\\n    } |\\n    for( @{x9}, @{x10} <= @{x4} ) {\\n      @{x10}!((2 * x1) * ((x0 + 1) - x9) / (x0 * (x0 + 1)))\\n    }\\n  }\\n} |\\nfor( @{x0}, @{x1}, @{x2}, @{x3}, @{x4} <= @{Unforgeable(0x7552cec105748ea9446e0e0ba5c172e5e26eae8c751c02e907117565029bb542)} ) {\\n  new x5, x6, x7 in {\\n    for( @{x8} <- @{Unforgeable(0x9ff0f9541aca2420eae8043874b6f4eafbe5e0747b9805056908e59ff04c9abb)} ; @{x9} <- @{Unforgeable(0x25408b316e2455a9d52da2bcd923ee3e0524b34776d387bdf347320a54f2bf6f)} ) {\\n      @{Unforgeable(0x3ddd216fe056e93aad1e250c3d24a21fb24bc58476ef130c8ca102cd57280bca)}!((x9).size(), x8, x5) |\\n      for( @{x10} <- @{x5} ) {\\n        @{x6}!(x9, x10, {}, x7) |\\n        for( @{x11} <- @{x7} ) {\\n          @{x4}!((true, \"Bond successful!\")) |\\n          @{Unforgeable(0x25408b316e2455a9d52da2bcd923ee3e0524b34776d387bdf347320a54f2bf6f)}!((x11).set(x0,((x2 - x8), x1, x3, ((x9).size() + 1))))\\n        }\\n      }\\n    } |\\n    for( @{x8}, @{x9}, @{x10}, @{x11} <= @{x6} ) {\\n      match x8 {\\n        {x13 : (x14, x15, x16, x17)...x12} => @{x6}!(x12, x9, (x10).set(x13,((x14 + (x9).nth((x17 - 1))), x15, x16, x17)), x11) ;\\n        _ => @{x11}!(x10)\\n      }\\n    }\\n  }\\n} |\\nfor( @{x0}, @{x1}, @{x2}, @{x3}, @{x4} <= @{(Unforgeable(0xecd2e56d9e265a6cd90c7f7db9c174f426a29e6c2eee985862039ed3baa405ee), \"bond\")} ) {\\n  new x5, x6, x7, x8 in {\\n    @{Unforgeable(0x90c8b94950b6e2d21aafacf7be4c02f0fd3796527ecaf696662586a3255dea4f)}!(x2, x6) |\\n    for( @{x9}, @{x10} <- @{x7} ) {\\n      new x11 in {\\n        @{(Unforgeable(0xecd2e56d9e265a6cd90c7f7db9c174f426a29e6c2eee985862039ed3baa405ee), \"isBonded\")}!(x0, x11) |\\n        for( @{x12} <- @{x11} ) {\\n          match x12 {\\n            true => @{x10}!((\"Left\", (\"Public key ${pk} already bonded.\" %% {\"pk\" : x0}))) ;\\n            false => @{x10}!((\"Right\", x9))\\n          }\\n        }\\n      }\\n    } |\\n    for( @{x9} <- @{x6} ) {\\n      match x9 {\\n        (\"Right\", (x10, x11)) => @{(\"Either\", \"compose\")}!(x10, [(Unforgeable(0xecd2e56d9e265a6cd90c7f7db9c174f426a29e6c2eee985862039ed3baa405ee), \"validateBondAmount\"), (Unforgeable(0xecd2e56d9e265a6cd90c7f7db9c174f426a29e6c2eee985862039ed3baa405ee), \"validateBondingRate\"), x7, x8], x5) |\\n        for( @{_}, @{x12} <- @{x8} ) {\\n          @{Unforgeable(0x6ea0247c7efd049f05d576dd45a86780b4894d69ce70b686b892af89ea38e226)}!(x10, x11, x12)\\n        } |\\n        for( @{x12} <- @{x5} ) {\\n          match x12 {\\n            (\"Right\", _) => @{Unforgeable(0x7552cec105748ea9446e0e0ba5c172e5e26eae8c751c02e907117565029bb542)}!(x0, x1, x11, x3, x4) ;\\n            (\"Left\", x13) => @{(x2, \"deposit\")}!(x11, x10, x5) |\\n            for( @{_} <- @{x5} ) {\\n              @{x4}!((false, x13))\\n            }\\n          }\\n        } ;\\n        (\"Left\", x10) => @{x4}!((false, x10))\\n      }\\n    }\\n  }\\n} |\\nfor( @{x0}, @{x1}, @{x2}, @{x3} <= @{(\"ListOps\", \"fold\")} ) {\\n  new x4 in {\\n    for( @{x5}, @{x6}, @{x7} <= @{x4} ) {\\n      new x8 in {\\n        @{x2}!(x5, x6, x8) |\\n        for( @{x9} <- @{x8} ) {\\n          @{x7}!(false, x9)\\n        }\\n      }\\n    } |\\n    new x5 in {\\n      @{(\"ListOps\", \"partialFold\")}!(x0, x1, x4, x5) |\\n      for( @{_}, @{x6} <- @{x5} ) {\\n        @{x3}!(x6)\\n      }\\n    }\\n  }\\n} |\\nfor( @{x0}, @{x1} <= @{Unforgeable(0x03)} ) {\\n  Nil\\n} |\\nfor( @{x0}, @{x1}, @{x2} <= @{(\"ListOps\", \"unorderedParMap\")} ) {\\n  new x3, x4, x5, x6, x7 in {\\n    for( @{x8} <= @{x4} ) {\\n      for( @{x9} <- @{x7} ; @{x10} <- @{x6} ; @{x11} <- @{x5} ) {\\n        @{x5}!(x11) |\\n        match (x11 == (x10 + 1)) {\\n          true => @{(\"ListOps\", \"prepend\")}!(x8, x9, x2) ;\\n          false => @{(\"ListOps\", \"prepend\")}!(x8, x9, x7) |\\n          @{x6}!((x10 + 1))\\n        }\\n      }\\n    } |\\n    for( @{x8}, @{x9} <= @{x3} ) {\\n      match x8 {\\n        [x11...x10] => new x12 in {\\n          @{x3}!(x10, (x9 + 1)) |\\n          @{x1}!(x11, x12) |\\n          for( @{x13} <- @{x12} ) {\\n            @{x4}!(x13)\\n          }\\n        } ;\\n        _ => @{x5}!(x9)\\n      }\\n    } |\\n    match x0 {\\n      [] => @{x2}!([]) ;\\n      _ => @{x7}!([]) |\\n      @{x6}!(0) |\\n      @{x3}!(x0, 0)\\n    }\\n  }\\n} |\\nfor( @{x0}, @{x1}, @{x2} <= @{(\"ListOps\", \"map\")} ) {\\n  new x3 in {\\n    @{(\"ListOps\", \"fold\")}!(x0, [], x3, x2) |\\n    for( @{x4}, @{x5}, @{x6} <= @{x3} ) {\\n      new x7 in {\\n        @{x1}!(x4, x7) |\\n        for( @{x8} <- @{x7} ) {\\n          @{(\"ListOps\", \"append\")}!(x5, x8, x6)\\n        }\\n      }\\n    }\\n  }\\n} |\\nfor( @{x0}, @{x1} <= @{\"NonNegativeNumber\"} ) {\\n  new x2, x3 in {\\n    @{x1}!(x2) |\\n    for( @{x4}, @{x5} <= @{(x2, \"add\")} ) {\\n      match (x4 >= 0) {\\n        true => for( @{x6} <- @{x3} ) {\\n          match ((x6 + x4) > x6) {\\n            true => @{x5}!(true) |\\n            @{x3}!((x6 + x4)) ;\\n            false => @{x5}!(false) |\\n            @{x3}!(x6)\\n          }\\n        } ;\\n        false => @{x5}!(false)\\n      }\\n    } |\\n    for( @{x4}, @{x5} <= @{(x2, \"sub\")} ) {\\n      match (x4 >= 0) {\\n        true => for( @{x6} <- @{x3} ) {\\n          match (x4 <= x6) {\\n            true => @{x5}!(true) |\\n            @{x3}!((x6 - x4)) ;\\n            false => @{x5}!(false) |\\n            @{x3}!(x6)\\n          }\\n        } ;\\n        false => @{x5}!(false)\\n      }\\n    } |\\n    for( @{x4} <= @{(x2, \"value\")} ) {\\n      for( @{x5} <- @{x3} ) {\\n        @{x4}!(x5) |\\n        @{x3}!(x5)\\n      }\\n    } |\\n    match (x0 >= 0) {\\n      true => @{x3}!(x0) ;\\n      _ => @{x3}!(0)\\n    }\\n  }\\n} |\\nfor( @{x0}, @{x1} <= @{(\"WalletCheck\", \"create\")} ) {\\n  new x2 in {\\n    @{x2}!(false) |\\n    for( @{[x3, x4]}, @{x5} <= @{x0} ) {\\n      for( @{x6} <- @{x2} ) {\\n        match x6 {\\n          true => @{x4}!([false, \"Already claimed wallet\"]) |\\n          @{x2}!(x6) ;\\n          false => new x7, x8, x9 in {\\n            @{\"keccak256Hash\"}!(([x3, x4]).toByteArray(), x9) |\\n            for( @{x10} <- @{x9} ) {\\n              @{\"secp256k1Verify\"}!(x10, (x5).hexToBytes(), ((\"04\" ++ x3)).hexToBytes(), x7) |\\n              for( @{x11} <- @{x7} ) {\\n                match x11 {\\n                  true => @{(\"WalletCheck\", \"publicToAddr\")}!(x3, x8) |\\n                  for( @{x12} <- @{x8} ) {\\n                    match (x12 == ((x0).slice(2,(x0).length())).hexToBytes()) {\\n                      true => new x13 in {\\n                        @{\"BasicWallet\"}!(x1, \"secp256k1\", (\"04\" ++ x3), x13) |\\n                        @{x2}!(true) |\\n                        for( @{[x14]} <- @{x13} ) {\\n                          @{x4}!([true, x14]) |\\n                          @{x3}!!(x14)\\n                        }\\n                      } ;\\n                      false => @{x4}!([false, \"Public key is not the preimage of hash\"]) |\\n                      @{x2}!(x6)\\n                    }\\n                  } ;\\n                  false => @{x4}!([false, \"Signature verification failed\"]) |\\n                  @{x2}!(x6)\\n                }\\n              }\\n            }\\n          }\\n        }\\n      }\\n    }\\n  }\\n} |\\nfor( @{x0}, @{x1} <= @{Unforgeable(0x90c8b94950b6e2d21aafacf7be4c02f0fd3796527ecaf696662586a3255dea4f)} ) {\\n  new x2, x3 in {\\n    @{(x0, \"getBalance\")}!(x2) |\\n    for( @{x4} <- @{x2} ) {\\n      @{(x0, \"split\")}!(x4, x3) |\\n      for( @{x5} <- @{x3} ) {\\n        match x5 {\\n          [] => @{x1}!((\"Left\", \"Could not extract funds from given purse\")) ;\\n          [x6] => @{x1}!((\"Right\", (x6, x4)))\\n        }\\n      }\\n    }\\n  }\\n} |\\nfor( @{x0}, @{x1}, @{x2}, @{x3} <= @{\"secp256k1Verify\"} ) {\\n  Nil\\n} |\\nfor( @{x0} <= @{(Unforgeable(0xf0f0a2dd83356d30a1ff0b3fdbaf1427674b3cf65b607246739d9f1299a0cd88), \"getBalance\")} ) {\\n  @{(Unforgeable(0x5c27ed0300df4e93e036e3045c894aef8b0e7de54f453b3c4598d1cf3986bac2), \"value\")}!(x0)\\n} |\\nfor( @{x0}, @{x1}, @{x2} <= @{(\"ListOps\", \"foreach\")} ) {\\n  new x3, x4 in {\\n    @{(\"ListOps\", \"fold\")}!(x0, Nil, x3, x4) |\\n    for( @{_} <- @{x4} ) {\\n      @{x2}!(true)\\n    } |\\n    for( @{x5}, @{x6}, @{x7} <= @{x3} ) {\\n      new x8 in {\\n        @{x1}!(x5, x8) |\\n        for( @{_} <- @{x8} ) {\\n          @{x7}!(Nil)\\n        }\\n      }\\n    }\\n  }\\n} |\\nfor( @{x0} <= @{(\"Rev\", \"makePurse\")} ) {\\n  @{(Unforgeable(0x683eaf52d2b3d017da586a54f6e19091b0303c90da8cadd6a4debed984c77f83), \"makePurse\")}!(0, x0)\\n} |\\nfor( @{x0}, @{x1}, @{x2} <= @{(\"ListOps\", \"range\")} ) {\\n  new x3 in {\\n    @{x3}!((x1 - 1), []) |\\n    for( @{x4}, @{x5} <= @{x3} ) {\\n      match (x4 < x0) {\\n        true => @{x2}!(x5) ;\\n        false => @{x3}!((x4 - 1), ([x4] ++ x5))\\n      }\\n    }\\n  }\\n} |\\nfor( @{x0} <= @{(Unforgeable(0xf0f0a2dd83356d30a1ff0b3fdbaf1427674b3cf65b607246739d9f1299a0cd88), \"sprout\")} ) {\\n  @{(Unforgeable(0x683eaf52d2b3d017da586a54f6e19091b0303c90da8cadd6a4debed984c77f83), \"makePurse\")}!(0, x0)\\n} |\\nfor( @{x0} <= @{(Unforgeable(0xecd2e56d9e265a6cd90c7f7db9c174f426a29e6c2eee985862039ed3baa405ee), \"getBonds\")} ) {\\n  for( @{x1} <- @{Unforgeable(0x25408b316e2455a9d52da2bcd923ee3e0524b34776d387bdf347320a54f2bf6f)} ) {\\n    @{x0}!(x1) |\\n    @{Unforgeable(0x25408b316e2455a9d52da2bcd923ee3e0524b34776d387bdf347320a54f2bf6f)}!(x1)\\n  }\\n} |\\nfor( @{x0}, @{x1}, @{x2}, @{x3} <= @{Unforgeable(0x0b)} ) {\\n  Nil\\n} |\\nfor( @{x0}, @{x1} <= @{(\"ListOps\", \"reverse\")} ) {\\n  @{(\"ListOps\", \"fold\")}!(x0, [], (\"ListOps\", \"prepend\"), x1)\\n} |\\nfor( @{x0}, @{x1}, @{x2} <= @{(\"Either\", \"compose\")} ) {\\n  new x3 in {\\n    @{(\"ListOps\", \"fold\")}!(x1, (\"Right\", x0), x3, x2) |\\n    for( @{x4}, @{x5}, @{x6} <= @{x3} ) {\\n      @{(\"Either\", \"flatMap\")}!(x5, x4, x6)\\n    }\\n  }\\n} |\\nfor( @{x0}, @{x1}, @{x2} <= @{(\"ListOps\", \"append\")} ) {\\n  @{x2}!((x0 ++ [x1]))\\n} |\\nfor( @{x0}, @{x1} <= @{(Unforgeable(0x5c27ed0300df4e93e036e3045c894aef8b0e7de54f453b3c4598d1cf3986bac2), \"sub\")} ) {\\n  match (x0 >= 0) {\\n    true => for( @{x2} <- @{Unforgeable(0x6b9fea10fcb68e9fb3b5e7d28043d18f37b63d376149f24cfe52c03342b6f251)} ) {\\n      match (x0 <= x2) {\\n        true => @{x1}!(true) |\\n        @{Unforgeable(0x6b9fea10fcb68e9fb3b5e7d28043d18f37b63d376149f24cfe52c03342b6f251)}!((x2 - x0)) ;\\n        false => @{x1}!(false) |\\n        @{Unforgeable(0x6b9fea10fcb68e9fb3b5e7d28043d18f37b63d376149f24cfe52c03342b6f251)}!(x2)\\n      }\\n    } ;\\n    false => @{x1}!(false)\\n  }\\n} |\\nfor( @{x0}, @{x1}, @{x2} <= @{(\"ListOps\", \"prepend\")} ) {\\n  @{x2}!(([x0] ++ x1))\\n} |\\nfor( @{x0}, @{x1}, @{x2} <= @{(\"Either\", \"map\")} ) {\\n  match x0 {\\n    (\"Right\", x3) => new x4 in {\\n      @{x1}!(x3, x4) |\\n      for( @{x5} <- @{x4} ) {\\n        @{x2}!((\"Right\", x5))\\n      }\\n    } ;\\n    (\"Left\", _) => @{x2}!(x0)\\n  }\\n} |\\nfor( @{x0} <= @{Unforgeable(0x02)} ) {\\n  Nil\\n} |\\nfor( @{x0}, @{x1} <= @{Unforgeable(0x09)} ) {\\n  Nil\\n} |\\nfor( @{x0}, @{x1} <= @{(\"MakeMint\", \"int2NN\")} ) {\\n  new x2 in {\\n    @{\"NonNegativeNumber\"}!(x0, x2) |\\n    for( @{x3} <- @{x2} ) {\\n      @{x1}!(x3)\\n    }\\n  }\\n} |\\nfor( @{x0}, @{x1}, @{x2} <= @{(\"Either\", \"flatMap\")} ) {\\n  match x0 {\\n    (\"Right\", x3) => @{x1}!(x3, x2) ;\\n    (\"Left\", _) => @{x2}!(x0)\\n  }\\n} |\\nfor( @{x0}, @{x1} <= @{\"sha256Hash\"} ) {\\n  Nil\\n} |\\nfor( @{x0}, @{x1} <= @{Unforgeable(0x01)} ) {\\n  Nil\\n} |\\nfor( @{x0}, @{x1} <= @{(\"WalletCheck\", \"publicToAddr\")} ) {\\n  new x2 in {\\n    @{\"keccak256Hash\"}!((x0).hexToBytes(), x2) |\\n    for( @{x3} <- @{x2} ) {\\n      @{x1}!((x3).slice(12,32))\\n    }\\n  }\\n} |\\nfor( @{x0}, @{x1}, @{x2}, @{x3} <= @{(\"ListOps\", \"partialFold\")} ) {\\n  new x4 in {\\n    @{x4}!(x1, x0) |\\n    for( @{x5}, @{x6} <= @{x4} ) {\\n      match x6 {\\n        [x8...x7] => new x9 in {\\n          @{x2}!(x8, x5, x9) |\\n          for( @{x10}, @{x11} <- @{x9} ) {\\n            match x10 {\\n              true => @{x3}!(x10, x11) ;\\n              false => @{x4}!(x11, x7)\\n            }\\n          }\\n        } ;\\n        _ => @{x3}!(false, x5)\\n      }\\n    }\\n  }\\n} |\\nfor( @{x0}, @{x1} <= @{(Unforgeable(0x683eaf52d2b3d017da586a54f6e19091b0303c90da8cadd6a4debed984c77f83), \"makePurse\")} ) {\\n  new x2 in {\\n    @{(\"MakeMint\", \"int2NN\")}!(x0, x2) |\\n    for( @{x3} <- @{x2} ) {\\n      @{Unforgeable(0x1559b5dd34d2b8ed4702e15c754b1cd22dc15141441b6ebbfbe1c215477ee210)}!(x3, x1)\\n    }\\n  }\\n} |\\nfor( @{x0}, @{x1} <= @{Unforgeable(0x0a)} ) {\\n  Nil\\n} |\\nfor( @{x0}, @{x1}, @{x2} <= @{(Unforgeable(0xf0f0a2dd83356d30a1ff0b3fdbaf1427674b3cf65b607246739d9f1299a0cd88), \"deposit\")} ) {\\n  new x3 in {\\n    @{(x1, Unforgeable(0x997e30ea2a02f2e2dcc1da6150d9765a27971d771b35ebf2040750d0ec63c31c))}!(x0, x3) |\\n    for( @{x4} <- @{x3} ) {\\n      match x4 {\\n        true => @{(Unforgeable(0x5c27ed0300df4e93e036e3045c894aef8b0e7de54f453b3c4598d1cf3986bac2), \"add\")}!(x0, x2) ;\\n        false => @{x2}!(false)\\n      }\\n    }\\n  }\\n} |\\nfor( @{x0}, @{x1}, @{x2} <= @{Unforgeable(0x6ea0247c7efd049f05d576dd45a86780b4894d69ce70b686b892af89ea38e226)} ) {\\n  new x3 in {\\n    @{(Unforgeable(0xf0f0a2dd83356d30a1ff0b3fdbaf1427674b3cf65b607246739d9f1299a0cd88), \"deposit\")}!(x1, x0, x3) |\\n    for( @{x4} <- @{x3} ) {\\n      match x4 {\\n        true => @{x2}!((\"Right\", x0)) ;\\n        false => @{x2}!((\"Left\", \"Deposit failed.\"))\\n      }\\n    }\\n  }\\n} |\\nfor( @{x0}, @{x1}, @{x2} <= @{(\"ListOps\", \"zip\")} ) {\\n  new x3 in {\\n    @{x3}!((x0, x1), [], x2) |\\n    for( @{x4}, @{x5}, @{x6} <= @{x3} ) {\\n      match x4 {\\n        ([x8...x7], [x10...x9]) => @{x3}!((x7, x9), (x5 ++ [(x8, x10)]), x6) ;\\n        _ => @{x6}!(x5)\\n      }\\n    }\\n  }\\n} |\\nfor( @{x0}, @{x1} <= @{(Unforgeable(0x5c27ed0300df4e93e036e3045c894aef8b0e7de54f453b3c4598d1cf3986bac2), \"add\")} ) {\\n  match (x0 >= 0) {\\n    true => for( @{x2} <- @{Unforgeable(0x6b9fea10fcb68e9fb3b5e7d28043d18f37b63d376149f24cfe52c03342b6f251)} ) {\\n      match ((x2 + x0) > x2) {\\n        true => @{x1}!(true) |\\n        @{Unforgeable(0x6b9fea10fcb68e9fb3b5e7d28043d18f37b63d376149f24cfe52c03342b6f251)}!((x2 + x0)) ;\\n        false => @{x1}!(false) |\\n        @{Unforgeable(0x6b9fea10fcb68e9fb3b5e7d28043d18f37b63d376149f24cfe52c03342b6f251)}!(x2)\\n      }\\n    } ;\\n    false => @{x1}!(false)\\n  }\\n} |\\nfor( @{x0}, @{x1}, @{x2}, @{x3}, @{x4} <= @{\"MakePoS\"} ) {\\n  new x5, x6, x7, x8, x9, x10, x11 in {\\n    @{x6}!(x3) |\\n    @{x4}!(x5) |\\n    @{x7}!!(x1) |\\n    for( @{x12}, @{x13}, @{x14}, @{x15}, @{x16} <= @{(x5, \"bond\")} ) {\\n      new x17, x18, x19, x20 in {\\n        @{x8}!(x14, x18) |\\n        for( @{x21}, @{x22} <- @{x19} ) {\\n          new x23 in {\\n            @{(x5, \"isBonded\")}!(x12, x23) |\\n            for( @{x24} <- @{x23} ) {\\n              match x24 {\\n                true => @{x22}!((\"Left\", (\"Public key ${pk} already bonded.\" %% {\"pk\" : x12}))) ;\\n                false => @{x22}!((\"Right\", x21))\\n              }\\n            }\\n          }\\n        } |\\n        for( @{x21} <- @{x18} ) {\\n          match x21 {\\n            (\"Right\", (x22, x23)) => @{(\"Either\", \"compose\")}!(x22, [(x5, \"validateBondAmount\"), (x5, \"validateBondingRate\"), x19, x20], x17) |\\n            for( @{_}, @{x24} <- @{x20} ) {\\n              @{x9}!(x22, x23, x24)\\n            } |\\n            for( @{x24} <- @{x17} ) {\\n              match x24 {\\n                (\"Right\", _) => @{x10}!(x12, x13, x23, x15, x16) ;\\n                (\"Left\", x25) => @{(x14, \"deposit\")}!(x23, x22, x17) |\\n                for( @{_} <- @{x17} ) {\\n                  @{x16}!((false, x25))\\n                }\\n              }\\n            } ;\\n            (\"Left\", x22) => @{x16}!((false, x22))\\n          }\\n        }\\n      }\\n    } |\\n    for( @{x12} <= @{(x5, \"getBonds\")} ) {\\n      for( @{x13} <- @{x6} ) {\\n        @{x12}!(x13) |\\n        @{x6}!(x13)\\n      }\\n    } |\\n    for( @{x12}, @{x13} <= @{(x5, \"isBonded\")} ) {\\n      for( @{x14} <- @{x6} ) {\\n        @{x13}!((x14).contains(x12)) |\\n        @{x6}!(x14)\\n      }\\n    } |\\n    for( @{x12}, @{x13} <= @{(x5, \"validateBondAmount\")} ) {\\n      new x14 in {\\n        @{(x12, \"getBalance\")}!(x14) |\\n        for( @{x15} <- @{x14} ; @{x16} <- @{x7} ) {\\n          match ((x15 - x16) < x1) {\\n            true => @{x13}!((\"Left\", \"Bond less than minimum!\")) ;\\n            false => match ((x15 - x16) > x2) {\\n              true => @{x13}!((\"Left\", \"Bond greater than maximum!\")) ;\\n              false => @{x13}!((\"Right\", x12))\\n            }\\n          }\\n        }\\n      }\\n    } |\\n    for( @{x12}, @{x13} <= @{(x5, \"validateBondingRate\")} ) {\\n      @{x13}!((\"Right\", x12))\\n    } |\\n    for( @{x12}, @{x13}, @{x14} <= @{x11} ) {\\n      new x15, x16, x17, x18, x19, x20 in {\\n        @{(\"ListOps\", \"range\")}!(1, (x12 + 1), x15) |\\n        for( @{x21} <- @{x15} ) {\\n          @{(\"ListOps\", \"map\")}!(x21, x16, x17) |\\n          for( @{x22} <- @{x17} ) {\\n            @{(\"ListOps\", \"fold\")}!(x22, 0, x18, x20) |\\n            for( @{x23} <- @{x20} ) {\\n              @{x14}!(([(((x22).nth(0) + x13) - x23)] ++ (x22).slice(1,x12)))\\n            }\\n          }\\n        } |\\n        for( @{x21}, @{x22}, @{x23} <= @{x18} ) {\\n          @{x23}!((x21 + x22))\\n        } |\\n        for( @{x21}, @{x22} <= @{x16} ) {\\n          @{x22}!((2 * x13) * ((x12 + 1) - x21) / (x12 * (x12 + 1)))\\n        }\\n      }\\n    } |\\n    for( @{x12}, @{x13}, @{x14}, @{x15}, @{x16} <= @{x10} ) {\\n      new x17, x18, x19 in {\\n        for( @{x20} <- @{x7} ; @{x21} <- @{x6} ) {\\n          @{x11}!((x21).size(), x20, x17) |\\n          for( @{x22} <- @{x17} ) {\\n            @{x18}!(x21, x22, {}, x19) |\\n            for( @{x23} <- @{x19} ) {\\n              @{x16}!((true, \"Bond successful!\")) |\\n              @{x6}!((x23).set(x12,((x14 - x20), x13, x15, ((x21).size() + 1))))\\n            }\\n          }\\n        } |\\n        for( @{x20}, @{x21}, @{x22}, @{x23} <= @{x18} ) {\\n          match x20 {\\n            {x25 : (x26, x27, x28, x29)...x24} => @{x18}!(x24, x21, (x22).set(x25,((x26 + (x21).nth((x29 - 1))), x27, x28, x29)), x23) ;\\n            _ => @{x23}!(x22)\\n          }\\n        }\\n      }\\n    } |\\n    for( @{x12}, @{x13}, @{x14} <= @{x9} ) {\\n      new x15 in {\\n        @{(x0, \"deposit\")}!(x13, x12, x15) |\\n        for( @{x16} <- @{x15} ) {\\n          match x16 {\\n            true => @{x14}!((\"Right\", x12)) ;\\n            false => @{x14}!((\"Left\", \"Deposit failed.\"))\\n          }\\n        }\\n      }\\n    } |\\n    for( @{x12}, @{x13} <= @{x8} ) {\\n      new x14, x15 in {\\n        @{(x12, \"getBalance\")}!(x14) |\\n        for( @{x16} <- @{x14} ) {\\n          @{(x12, \"split\")}!(x16, x15) |\\n          for( @{x17} <- @{x15} ) {\\n            match x17 {\\n              [] => @{x13}!((\"Left\", \"Could not extract funds from given purse\")) ;\\n              [x18] => @{x13}!((\"Right\", (x18, x16)))\\n            }\\n          }\\n        }\\n      }\\n    }\\n  }\\n} |\\nfor( @{x0}, @{x1}, @{x2}, @{x3} <= @{\"ed25519Verify\"} ) {\\n  Nil\\n} |\\nfor( @{x0}, @{x1}, @{x2} <= @{(\"ListOps\", \"indexOf\")} ) {\\n  new x3 in {\\n    for( @{x4}, @{x5}, @{x6} <= @{x3} ) {\\n      @{x6}!((x4 == x1), (x5 + 1))\\n    } |\\n    new x4 in {\\n      @{(\"ListOps\", \"partialFold\")}!(x0, -1, x3, x4) |\\n      for( @{x5}, @{x6} <- @{x4} ) {\\n        match x5 {\\n          true => @{x2}!(x6) ;\\n          false => @{x2}!(-1)\\n        }\\n      }\\n    }\\n  }\\n} |\\nfor( @{x0}, @{x1} <= @{\"keccak256Hash\"} ) {\\n  Nil\\n}',\n",
       " 'timestamp': 1540201268251,\n",
       " 'faultTolerance': -1.0,\n",
       " 'mainParentHash': 'e2d91d598ed94df73c5085425d7ba53fcedd0db47c71c4a5ac8d252455a18c47',\n",
       " 'parentsHashList': ['e2d91d598ed94df73c5085425d7ba53fcedd0db47c71c4a5ac8d252455a18c47'],\n",
       " 'sender': 'eabe5a1a0750d2a8745709bb0bdb24f63c6a8ac3a887b9bed40b34b0598ddf08',\n",
       " 'shardId': 'rchain'}"
      ]
     },
     "execution_count": 42,
     "metadata": {},
     "output_type": "execute_result"
    }
   ],
   "source": [
    "block = casper.get_block(connection, block_hash=block_hash)\n",
    "block"
   ]
  },
  {
   "cell_type": "code",
   "execution_count": 44,
   "metadata": {
    "slideshow": {
     "slide_type": "subslide"
    }
   },
   "outputs": [
    {
     "data": {
      "text/plain": [
       "3"
      ]
     },
     "execution_count": 44,
     "metadata": {},
     "output_type": "execute_result"
    }
   ],
   "source": [
    "block.get('blockNumber')"
   ]
  },
  {
   "cell_type": "markdown",
   "metadata": {
    "slideshow": {
     "slide_type": "slide"
    }
   },
   "source": [
    "### Context Manager"
   ]
  },
  {
   "cell_type": "markdown",
   "metadata": {
    "slideshow": {
     "slide_type": "subslide"
    }
   },
   "source": [
    "The connection provided by the library can be used in a `with` python statement"
   ]
  },
  {
   "cell_type": "code",
   "execution_count": 49,
   "metadata": {
    "slideshow": {
     "slide_type": "fragment"
    }
   },
   "outputs": [
    {
     "name": "stdout",
     "output_type": "stream",
     "text": [
      "{'success': True, 'message': 'Success! Block 765b8d7121... created and added.'}\n",
      "Current block number is 7\n",
      "with hash 765b8d712133d3aa003be310d15321e6e67e7862576c2160df59bf5a7149d053\n"
     ]
    }
   ],
   "source": [
    "# all previous operations in one context\n",
    "\n",
    "with casper.create_connection(host=RNODE_HOST) as connection:\n",
    "\n",
    "    # deploy / propose\n",
    "    casper.deploy(connection, rholang_code)\n",
    "    print(casper.propose(connection))\n",
    "    \n",
    "    # handle output\n",
    "    output = casper.get_blocks(connection, depth=1)\n",
    "    block_hash = output.pop().get('blockHash')\n",
    "    block = casper.get_block(connection, block_hash=block_hash)\n",
    "    print(f\"Current block number is {block.get('blockNumber')}\\nwith hash {block_hash}\")\n",
    "    \n",
    "# connection here is closed"
   ]
  },
  {
   "cell_type": "markdown",
   "metadata": {
    "slideshow": {
     "slide_type": "slide"
    }
   },
   "source": [
    "### Interact with channels"
   ]
  },
  {
   "cell_type": "markdown",
   "metadata": {
    "slideshow": {
     "slide_type": "subslide"
    }
   },
   "source": [
    "By leveraging the `listenForDataAtName` we can specify a channel to receive the results of the new block proposed"
   ]
  },
  {
   "cell_type": "code",
   "execution_count": 227,
   "metadata": {
    "slideshow": {
     "slide_type": "fragment"
    }
   },
   "outputs": [],
   "source": [
    "output_placeholder = \"your_channel_name\""
   ]
  },
  {
   "cell_type": "code",
   "execution_count": 228,
   "metadata": {
    "slideshow": {
     "slide_type": "fragment"
    }
   },
   "outputs": [],
   "source": [
    "rholang_code = f\"\"\"\n",
    "{output_placeholder}!(\"bar\")\n",
    "\"\"\""
   ]
  },
  {
   "cell_type": "code",
   "execution_count": 229,
   "metadata": {
    "slideshow": {
     "slide_type": "fragment"
    }
   },
   "outputs": [
    {
     "name": "stdout",
     "output_type": "stream",
     "text": [
      "\n",
      "your_channel_name!(\"bar\")\n",
      "\n"
     ]
    }
   ],
   "source": [
    "print(rholang_code)"
   ]
  },
  {
   "cell_type": "code",
   "execution_count": 230,
   "metadata": {
    "slideshow": {
     "slide_type": "subslide"
    }
   },
   "outputs": [],
   "source": [
    "with casper.create_connection(host=RNODE_HOST) as connection:\n",
    "    block = casper.run_and_get_value_from(\n",
    "        connection=connection,\n",
    "        term=rholang_code, \n",
    "        # this gets replaced with a channel name\n",
    "        output_placeholder=output_placeholder\n",
    "    )"
   ]
  },
  {
   "cell_type": "code",
   "execution_count": 138,
   "metadata": {
    "slideshow": {
     "slide_type": "subslide"
    }
   },
   "outputs": [
    {
     "data": {
      "text/plain": [
       "'ack_891db0afecd473f4af77d294d64046a09602d090281ae47ca1e2d24a59f0'"
      ]
     },
     "execution_count": 138,
     "metadata": {},
     "output_type": "execute_result"
    }
   ],
   "source": [
    "# what's used for replacing the placeholder\n",
    "import secrets\n",
    "ack_name = f'ack_{secrets.token_hex(30)}'\n",
    "ack_name"
   ]
  },
  {
   "cell_type": "code",
   "execution_count": 231,
   "metadata": {
    "slideshow": {
     "slide_type": "subslide"
    }
   },
   "outputs": [
    {
     "data": {
      "text/plain": [
       "{'status': 'Success',\n",
       " 'blockResults': [{'postBlockData': [['bar']],\n",
       "   'block': {'blockHash': '6a2a25352581d65f50672d068ae1e5db259e860817423534f94fd03a4eae5cc2',\n",
       "    'blockSize': '1144',\n",
       "    'blockNumber': 26,\n",
       "    'deployCount': 1,\n",
       "    'tupleSpaceHash': 'c6aafc3328b4b78c2b3a6062a25d048fa71803ef5f1454541a124970b9b4522b',\n",
       "    'timestamp': 1540210892204,\n",
       "    'faultTolerance': -1.0,\n",
       "    'mainParentHash': '96840500fdddd0f38e71c3fc96b46dee8eefc42a83bde98d8a7e3eecc6bae7ec',\n",
       "    'parentsHashList': ['96840500fdddd0f38e71c3fc96b46dee8eefc42a83bde98d8a7e3eecc6bae7ec'],\n",
       "    'sender': 'eabe5a1a0750d2a8745709bb0bdb24f63c6a8ac3a887b9bed40b34b0598ddf08'}}],\n",
       " 'length': 1}"
      ]
     },
     "execution_count": 231,
     "metadata": {},
     "output_type": "execute_result"
    }
   ],
   "source": [
    "block"
   ]
  },
  {
   "cell_type": "code",
   "execution_count": 232,
   "metadata": {
    "slideshow": {
     "slide_type": "subslide"
    }
   },
   "outputs": [],
   "source": [
    "results = block.get('blockResults')[:].pop()\n",
    "messages = results.get('postBlockData')"
   ]
  },
  {
   "cell_type": "code",
   "execution_count": 233,
   "metadata": {
    "slideshow": {
     "slide_type": "fragment"
    }
   },
   "outputs": [
    {
     "name": "stdout",
     "output_type": "stream",
     "text": [
      "Received:  bar\n"
     ]
    }
   ],
   "source": [
    "for message in messages:\n",
    "    print(\"Received: \", message.pop())"
   ]
  },
  {
   "cell_type": "markdown",
   "metadata": {
    "slideshow": {
     "slide_type": "slide"
    }
   },
   "source": [
    "### Name registry\n",
    "\n",
    "`NEW!`"
   ]
  },
  {
   "cell_type": "markdown",
   "metadata": {
    "slideshow": {
     "slide_type": "subslide"
    }
   },
   "source": [
    "Using the techniques tested so far we can now write a contract, register it to Name Registry (introduced in 0.7) and get the id for lookup; so - all programmatically from Python - we can call the contract safely."
   ]
  },
  {
   "cell_type": "markdown",
   "metadata": {
    "slideshow": {
     "slide_type": "subslide"
    }
   },
   "source": [
    "#### 1. Register a contract"
   ]
  },
  {
   "cell_type": "code",
   "execution_count": 199,
   "metadata": {
    "slideshow": {
     "slide_type": "subslide"
    }
   },
   "outputs": [],
   "source": [
    "ack_name = 'placeholder_something'"
   ]
  },
  {
   "cell_type": "code",
   "execution_count": 214,
   "metadata": {
    "slideshow": {
     "slide_type": "fragment"
    }
   },
   "outputs": [],
   "source": [
    "rholang_code = \"\"\"\n",
    "new newName, ack, register(`rho:registry:insertArbitrary`), stdout(`rho:io:stdout`) in\n",
    "{\n",
    "  register!(bundle+{*newName}, *ack)\n",
    "  |\n",
    "  contract newName(@msg) = {\n",
    "    stdout!(\"Contract called with message: \" ++ msg)\n",
    "  }\n",
    "  |\n",
    "  for (@msg <- ack) {\n",
    "    %s!([\"From registry: \", msg])\n",
    "  }\n",
    "}\n",
    "\"\"\" % ack_name"
   ]
  },
  {
   "cell_type": "code",
   "execution_count": 215,
   "metadata": {
    "slideshow": {
     "slide_type": "subslide"
    }
   },
   "outputs": [
    {
     "name": "stdout",
     "output_type": "stream",
     "text": [
      "\n",
      "new newName, ack, register(`rho:registry:insertArbitrary`), stdout(`rho:io:stdout`) in\n",
      "{\n",
      "  register!(bundle+{*newName}, *ack)\n",
      "  |\n",
      "  contract newName(@msg) = {\n",
      "    stdout!(\"Contract called with message: \" ++ msg)\n",
      "  }\n",
      "  |\n",
      "  for (@msg <- ack) {\n",
      "    placeholder_something!([\"From registry: \", msg])\n",
      "  }\n",
      "}\n",
      "\n"
     ]
    }
   ],
   "source": [
    "print(rholang_code)"
   ]
  },
  {
   "cell_type": "code",
   "execution_count": 216,
   "metadata": {
    "slideshow": {
     "slide_type": "subslide"
    }
   },
   "outputs": [],
   "source": [
    "# run and get the value in the block output\n",
    "with casper.create_connection(host=RNODE_HOST) as connection:\n",
    "    block = casper.run_and_get_value_from(connection, rholang_code, output_placeholder=ack_name)    "
   ]
  },
  {
   "cell_type": "code",
   "execution_count": 217,
   "metadata": {
    "slideshow": {
     "slide_type": "subslide"
    }
   },
   "outputs": [
    {
     "data": {
      "text/plain": [
       "{'status': 'Success',\n",
       " 'blockResults': [{'postBlockData': [[{'ps': [['From registry: '],\n",
       "       ['rho:id:tmrfzpssys6hdjyfcd98e6ynr6i5z6xc6u1kdbxww4nhkjsrgbp6bs']]}]],\n",
       "   'block': {'blockHash': 'aff262b776f9223f528f8ddc6b31bb02d510c3bbf8a44635731e8e1d7248067e',\n",
       "    'blockSize': '3185',\n",
       "    'blockNumber': 24,\n",
       "    'deployCount': 1,\n",
       "    'tupleSpaceHash': 'e7c52ef64c3419242a6ba68a7100d851b9363c652b78c551c94e5c208202f941',\n",
       "    'timestamp': 1540210602753,\n",
       "    'faultTolerance': -1.0,\n",
       "    'mainParentHash': '9bdee658197b5c4faf0c86556d5a75bc6304da564cc78cf57b98a8ed77a7608d',\n",
       "    'parentsHashList': ['9bdee658197b5c4faf0c86556d5a75bc6304da564cc78cf57b98a8ed77a7608d'],\n",
       "    'sender': 'eabe5a1a0750d2a8745709bb0bdb24f63c6a8ac3a887b9bed40b34b0598ddf08'}}],\n",
       " 'length': 1}"
      ]
     },
     "execution_count": 217,
     "metadata": {},
     "output_type": "execute_result"
    }
   ],
   "source": [
    "block"
   ]
  },
  {
   "cell_type": "markdown",
   "metadata": {
    "slideshow": {
     "slide_type": "subslide"
    }
   },
   "source": [
    "#### 2. Get ID in the code"
   ]
  },
  {
   "cell_type": "markdown",
   "metadata": {
    "slideshow": {
     "slide_type": "subslide"
    }
   },
   "source": [
    "We are looking to find a better way to handle the \"post block data\" "
   ]
  },
  {
   "cell_type": "code",
   "execution_count": 218,
   "metadata": {},
   "outputs": [],
   "source": [
    "post_block_data = block.get('blockResults')[:].pop().get('postBlockData')"
   ]
  },
  {
   "cell_type": "code",
   "execution_count": 219,
   "metadata": {},
   "outputs": [
    {
     "data": {
      "text/plain": [
       "[[{'ps': [['From registry: '],\n",
       "    ['rho:id:tmrfzpssys6hdjyfcd98e6ynr6i5z6xc6u1kdbxww4nhkjsrgbp6bs']]}]]"
      ]
     },
     "execution_count": 219,
     "metadata": {},
     "output_type": "execute_result"
    }
   ],
   "source": [
    "post_block_data"
   ]
  },
  {
   "cell_type": "code",
   "execution_count": 220,
   "metadata": {},
   "outputs": [
    {
     "data": {
      "text/plain": [
       "'rho:id:tmrfzpssys6hdjyfcd98e6ynr6i5z6xc6u1kdbxww4nhkjsrgbp6bs'"
      ]
     },
     "execution_count": 220,
     "metadata": {},
     "output_type": "execute_result"
    }
   ],
   "source": [
    "list(post_block_data[0][0].values())[0][1][0]"
   ]
  },
  {
   "cell_type": "code",
   "execution_count": 221,
   "metadata": {
    "slideshow": {
     "slide_type": "subslide"
    }
   },
   "outputs": [],
   "source": [
    "import json\n",
    "post_block_str = json.dumps(post_block_data)"
   ]
  },
  {
   "cell_type": "code",
   "execution_count": 222,
   "metadata": {},
   "outputs": [
    {
     "data": {
      "text/plain": [
       "'rho:id:tmrfzpssys6hdjyfcd98e6ynr6i5z6xc6u1kdbxww4nhkjsrgbp6bs'"
      ]
     },
     "execution_count": 222,
     "metadata": {},
     "output_type": "execute_result"
    }
   ],
   "source": [
    "import re\n",
    "match = re.search(r\"rho:id:[^\\\"]+\",  post_block_str)\n",
    "registry_id = match.group()\n",
    "registry_id"
   ]
  },
  {
   "cell_type": "markdown",
   "metadata": {
    "slideshow": {
     "slide_type": "subslide"
    }
   },
   "source": [
    "#### 3. Lookup and call the contract"
   ]
  },
  {
   "cell_type": "code",
   "execution_count": 223,
   "metadata": {
    "slideshow": {
     "slide_type": "subslide"
    }
   },
   "outputs": [],
   "source": [
    "rholang_code = \"\"\"\n",
    "new return, lookup(`rho:registry:lookup`), stdout(`rho:io:stdout`) in\n",
    "{\n",
    "  lookup!(`%s`, *return) |\n",
    "  for (myContract <- return) {\n",
    "    myContract!(\"Proof test\")\n",
    "  }\n",
    "}\n",
    "\"\"\" % registry_id"
   ]
  },
  {
   "cell_type": "code",
   "execution_count": 224,
   "metadata": {
    "slideshow": {
     "slide_type": "fragment"
    }
   },
   "outputs": [
    {
     "name": "stdout",
     "output_type": "stream",
     "text": [
      "\n",
      "new return, lookup(`rho:registry:lookup`), stdout(`rho:io:stdout`) in\n",
      "{\n",
      "  lookup!(`rho:id:tmrfzpssys6hdjyfcd98e6ynr6i5z6xc6u1kdbxww4nhkjsrgbp6bs`, *return) |\n",
      "  for (myContract <- return) {\n",
      "    myContract!(\"Proof test\")\n",
      "  }\n",
      "}\n",
      "\n"
     ]
    }
   ],
   "source": [
    "print(rholang_code)"
   ]
  },
  {
   "cell_type": "code",
   "execution_count": 225,
   "metadata": {
    "slideshow": {
     "slide_type": "subslide"
    }
   },
   "outputs": [
    {
     "name": "stdout",
     "output_type": "stream",
     "text": [
      "{'success': True, 'message': 'Success!'}\n",
      "{'success': True, 'message': 'Success! Block 96840500fd... created and added.'}\n"
     ]
    }
   ],
   "source": [
    "with casper.create_connection(host=RNODE_HOST) as connection:\n",
    "    print(casper.deploy(connection, rholang_code))\n",
    "    print(casper.propose(connection))"
   ]
  },
  {
   "cell_type": "markdown",
   "metadata": {
    "slideshow": {
     "slide_type": "fragment"
    }
   },
   "source": [
    "go check the logs!"
   ]
  },
  {
   "cell_type": "markdown",
   "metadata": {
    "slideshow": {
     "slide_type": "slide"
    }
   },
   "source": [
    "# THE END"
   ]
  }
 ],
 "metadata": {
  "celltoolbar": "Slideshow",
  "kernelspec": {
   "display_name": "Python 3",
   "language": "python",
   "name": "python3"
  },
  "language_info": {
   "codemirror_mode": {
    "name": "ipython",
    "version": 3
   },
   "file_extension": ".py",
   "mimetype": "text/x-python",
   "name": "python",
   "nbconvert_exporter": "python",
   "pygments_lexer": "ipython3",
   "version": "3.7.0"
  },
  "toc": {
   "base_numbering": 1,
   "nav_menu": {},
   "number_sections": false,
   "sideBar": true,
   "skip_h1_title": true,
   "title_cell": "Table of Contents",
   "title_sidebar": "Contents",
   "toc_cell": false,
   "toc_position": {
    "height": "calc(100% - 180px)",
    "left": "10px",
    "top": "150px",
    "width": "239px"
   },
   "toc_section_display": true,
   "toc_window_display": false
  }
 },
 "nbformat": 4,
 "nbformat_minor": 2
}
