{
 "cells": [
  {
   "cell_type": "markdown",
   "metadata": {},
   "source": [
    "---"
   ]
  },
  {
   "cell_type": "code",
   "execution_count": 108,
   "metadata": {},
   "outputs": [
    {
     "name": "stdout",
     "output_type": "stream",
     "text": [
      "Help on function run_contract in module rchain_grpc.casper:\n",
      "\n",
      "run_contract(connection: rchain_grpc.utils.Connection, contract_name: str, contract_args: List[Any], timeout: float = 60.0, **deploy_kwargs)\n",
      "    Run contract and return result if contract accept callback channel as last argument:\n",
      "    ```rholang\n",
      "    contract @\"add1\"(@number, cb) = {\n",
      "      cb!(number + 1)\n",
      "    }\n",
      "    ```\n",
      "\n"
     ]
    }
   ],
   "source": [
    "help(casper.run_contract)"
   ]
  },
  {
   "cell_type": "code",
   "execution_count": null,
   "metadata": {},
   "outputs": [],
   "source": [
    "contract_name = 'addTwo'\n",
    "rholang_code = \"\"\"\n",
    "contract @\"%s\"(@number, channel) = {\n",
    "  channel!(number + 1)\n",
    "}\"\"\" % (contract_name)\n",
    "print(rholang_code)"
   ]
  },
  {
   "cell_type": "code",
   "execution_count": null,
   "metadata": {},
   "outputs": [],
   "source": [
    "with casper.create_connection(host=RNODE_HOST) as connection:\n",
    "    \n",
    "    # deploy contract\n",
    "    casper.deploy(connection, rholang_contract)\n",
    "    print(casper.propose(connection))\n",
    "    \n",
    "    # use contract\n",
    "    output = casper.run_contract(connection, contract_name, [7])"
   ]
  },
  {
   "cell_type": "code",
   "execution_count": null,
   "metadata": {},
   "outputs": [],
   "source": [
    "output"
   ]
  },
  {
   "cell_type": "code",
   "execution_count": null,
   "metadata": {},
   "outputs": [],
   "source": []
  }
 ],
 "metadata": {
  "kernelspec": {
   "display_name": "Python 3",
   "language": "python",
   "name": "python3"
  },
  "language_info": {
   "codemirror_mode": {
    "name": "ipython",
    "version": 3
   },
   "file_extension": ".py",
   "mimetype": "text/x-python",
   "name": "python",
   "nbconvert_exporter": "python",
   "pygments_lexer": "ipython3",
   "version": "3.7.0"
  },
  "toc": {
   "base_numbering": 1,
   "nav_menu": {},
   "number_sections": true,
   "sideBar": true,
   "skip_h1_title": false,
   "title_cell": "Table of Contents",
   "title_sidebar": "Contents",
   "toc_cell": false,
   "toc_position": {},
   "toc_section_display": true,
   "toc_window_display": false
  }
 },
 "nbformat": 4,
 "nbformat_minor": 2
}
