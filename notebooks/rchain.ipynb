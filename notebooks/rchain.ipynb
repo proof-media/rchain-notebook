{
 "cells": [
  {
   "cell_type": "markdown",
   "metadata": {},
   "source": [
    "# Interacting with RChain node"
   ]
  },
  {
   "cell_type": "markdown",
   "metadata": {},
   "source": [
    "Open a channel with `grpc` using our Python library"
   ]
  },
  {
   "cell_type": "code",
   "execution_count": 1,
   "metadata": {},
   "outputs": [],
   "source": [
    "import os\n",
    "from rchain_grpc import casper\n",
    "\n",
    "RNODE_HOST = os.environ.get('NODE_NAME')\n",
    "casper_ch = casper.build_ch(host=RNODE_HOST)"
   ]
  },
  {
   "cell_type": "markdown",
   "metadata": {},
   "source": [
    "Write a contract in RhoLang and deploy/propose to the node you're connected with"
   ]
  },
  {
   "cell_type": "code",
   "execution_count": 2,
   "metadata": {},
   "outputs": [
    {
     "data": {
      "text/plain": [
       "{'success': True, 'message': 'Success! Block cca8698bc3... created and added.'}"
      ]
     },
     "execution_count": 2,
     "metadata": {},
     "output_type": "execute_result"
    }
   ],
   "source": [
    "RHO_CONTRACT = \"new foo in {foo!(\\\"bar\\\")}\"\n",
    "casper.deploy(casper_ch, RHO_CONTRACT)\n",
    "casper.propose(casper_ch)"
   ]
  },
  {
   "cell_type": "markdown",
   "metadata": {},
   "source": [
    "---"
   ]
  },
  {
   "cell_type": "markdown",
   "metadata": {},
   "source": [
    "A more interesting example is to run a contract and listen to the node for an answer on the deployed block"
   ]
  },
  {
   "cell_type": "code",
   "execution_count": 3,
   "metadata": {},
   "outputs": [],
   "source": [
    "output_placeholder = \"your_output_placeholder\"\n",
    "\n",
    "RHO_CONTRACT = \"\"\"\n",
    "%s!(\"bar\")\n",
    "\"\"\" % output_placeholder"
   ]
  },
  {
   "cell_type": "code",
   "execution_count": 4,
   "metadata": {},
   "outputs": [],
   "source": [
    "output = casper.run_and_listen_on(\n",
    "    ch=casper_ch, \n",
    "    term=RHO_CONTRACT, \n",
    "    output_placeholder=output_placeholder\n",
    ")"
   ]
  },
  {
   "cell_type": "code",
   "execution_count": 5,
   "metadata": {},
   "outputs": [
    {
     "name": "stdout",
     "output_type": "stream",
     "text": [
      "Results:\n",
      "[{'block': {'blockHash': 'd59d23ec761854ab6764fa5ef95f87dbaca8a319a72455e055930113c1e10a95',\n",
      "            'blockNumber': 2,\n",
      "            'blockSize': '589',\n",
      "            'deployCount': 1,\n",
      "            'faultTolerance': 1.0,\n",
      "            'mainParentHash': 'cca8698bc34b6e8e77b98e8bd33bfe0601ca8072801f7e7d4b57204414b1f368',\n",
      "            'parentsHashList': ['cca8698bc34b6e8e77b98e8bd33bfe0601ca8072801f7e7d4b57204414b1f368'],\n",
      "            'sender': 'eabe5a1a0750d2a8745709bb0bdb24f63c6a8ac3a887b9bed40b34b0598ddf08',\n",
      "            'timestamp': 1536102369422,\n",
      "            'tupleSpaceHash': '7cf35db0c87bddf8a57f4c707c3cbbb212b8c75368fe1698b473f4b47b2eca5b'},\n",
      "  'postBlockData': [['bar']]}]\n"
     ]
    }
   ],
   "source": [
    "# verify the status\n",
    "if output.get('status').lower() == 'success':\n",
    "    # all is good, pretty print results\n",
    "    print(\"Results:\")\n",
    "    from pprint import pprint\n",
    "    pprint(output.get('blockResults'))\n",
    "else:\n",
    "    # uh-oh something went wrong\n",
    "    print(\"Failed!\")"
   ]
  }
 ],
 "metadata": {
  "kernelspec": {
   "display_name": "Python 3",
   "language": "python",
   "name": "python3"
  },
  "language_info": {
   "codemirror_mode": {
    "name": "ipython",
    "version": 3
   },
   "file_extension": ".py",
   "mimetype": "text/x-python",
   "name": "python",
   "nbconvert_exporter": "python",
   "pygments_lexer": "ipython3",
   "version": "3.7.0"
  }
 },
 "nbformat": 4,
 "nbformat_minor": 2
}
